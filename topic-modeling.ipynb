{
 "cells": [
  {
   "cell_type": "markdown",
   "id": "a09352f7",
   "metadata": {},
   "source": [
    "# Temų modeliavimas"
   ]
  },
  {
   "cell_type": "markdown",
   "id": "91143aa3",
   "metadata": {},
   "source": [
    "## Pirminis teksto apdorojimas"
   ]
  },
  {
   "cell_type": "code",
   "execution_count": 12,
   "id": "42cb83ee",
   "metadata": {},
   "outputs": [],
   "source": [
    "import pandas as pd\n",
    "\n",
    "df = pd.read_csv('train.csv')"
   ]
  },
  {
   "cell_type": "code",
   "execution_count": 13,
   "id": "dab1cb0f",
   "metadata": {},
   "outputs": [
    {
     "data": {
      "text/plain": [
       "<20972x55277 sparse matrix of type '<class 'numpy.float64'>'\n",
       "\twith 1377203 stored elements in Compressed Sparse Row format>"
      ]
     },
     "execution_count": 13,
     "metadata": {},
     "output_type": "execute_result"
    }
   ],
   "source": [
    "from sklearn.feature_extraction.text import TfidfVectorizer\n",
    "\n",
    "tfidf = TfidfVectorizer(max_df = 0.85, stop_words = 'english')\n",
    "dtm = tfidf.fit_transform(df['ABSTRACT'])\n",
    "dtm"
   ]
  },
  {
   "cell_type": "code",
   "execution_count": null,
   "id": "ce713de4",
   "metadata": {},
   "outputs": [],
   "source": []
  }
 ],
 "metadata": {
  "kernelspec": {
   "display_name": "Python 3 (ipykernel)",
   "language": "python",
   "name": "python3"
  },
  "language_info": {
   "codemirror_mode": {
    "name": "ipython",
    "version": 3
   },
   "file_extension": ".py",
   "mimetype": "text/x-python",
   "name": "python",
   "nbconvert_exporter": "python",
   "pygments_lexer": "ipython3",
   "version": "3.9.7"
  }
 },
 "nbformat": 4,
 "nbformat_minor": 5
}
